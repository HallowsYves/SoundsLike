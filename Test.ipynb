{
 "cells": [
  {
   "cell_type": "code",
   "execution_count": null,
   "id": "31ed9117-0c9a-4a7d-8860-075c820baebf",
   "metadata": {},
   "outputs": [],
   "source": [
    "#How to do it:\n",
    "# - Download Jupyter notebooks: https://jupyter.org/install\n",
    "# - Move over to your repository\n",
    "# - Insert files and edit files as normal through git"
   ]
  },
  {
   "cell_type": "code",
   "execution_count": null,
   "id": "f6d36813-c4be-48b8-8b95-c398a241c892",
   "metadata": {},
   "outputs": [],
   "source": [
    "#testing\n",
    "\n",
    "import pandas as pd"
   ]
  }
 ],
 "metadata": {
  "kernelspec": {
   "display_name": "Python 3 (ipykernel)",
   "language": "python",
   "name": "python3"
  },
  "language_info": {
   "codemirror_mode": {
    "name": "ipython",
    "version": 3
   },
   "file_extension": ".py",
   "mimetype": "text/x-python",
   "name": "python",
   "nbconvert_exporter": "python",
   "pygments_lexer": "ipython3",
   "version": "3.11.0"
  }
 },
 "nbformat": 4,
 "nbformat_minor": 5
}
